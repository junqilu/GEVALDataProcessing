{
 "cells": [
  {
   "cell_type": "markdown",
   "source": [
    "# Import packages"
   ],
   "metadata": {
    "collapsed": false
   }
  },
  {
   "cell_type": "code",
   "execution_count": 1,
   "outputs": [],
   "source": [
    "import pandas as pd"
   ],
   "metadata": {
    "collapsed": false
   }
  },
  {
   "cell_type": "markdown",
   "source": [
    "# Custom functions"
   ],
   "metadata": {
    "collapsed": false
   }
  },
  {
   "cell_type": "code",
   "execution_count": 2,
   "outputs": [],
   "source": [
    "from histogram_data_parameters import calculate_weighted_average, \\\n",
    "    calculate_weighted_median, calculate_mode, csv_files_in_dir, extract_all_parameters_from_csv_files"
   ],
   "metadata": {
    "collapsed": false
   }
  },
  {
   "cell_type": "markdown",
   "source": [
    "# Read in example data"
   ],
   "metadata": {
    "collapsed": false
   }
  },
  {
   "cell_type": "code",
   "execution_count": 3,
   "outputs": [
    {
     "data": {
      "text/plain": "     bin_start  count\n0        1.228      7\n1        1.275      2\n2        1.323      6\n3        1.371      6\n4        1.418     18\n..         ...    ...\n251     13.168      0\n252     13.215      0\n253     13.263      0\n254     13.310      0\n255     13.358      1\n\n[256 rows x 2 columns]",
      "text/html": "<div>\n<style scoped>\n    .dataframe tbody tr th:only-of-type {\n        vertical-align: middle;\n    }\n\n    .dataframe tbody tr th {\n        vertical-align: top;\n    }\n\n    .dataframe thead th {\n        text-align: right;\n    }\n</style>\n<table border=\"1\" class=\"dataframe\">\n  <thead>\n    <tr style=\"text-align: right;\">\n      <th></th>\n      <th>bin_start</th>\n      <th>count</th>\n    </tr>\n  </thead>\n  <tbody>\n    <tr>\n      <th>0</th>\n      <td>1.228</td>\n      <td>7</td>\n    </tr>\n    <tr>\n      <th>1</th>\n      <td>1.275</td>\n      <td>2</td>\n    </tr>\n    <tr>\n      <th>2</th>\n      <td>1.323</td>\n      <td>6</td>\n    </tr>\n    <tr>\n      <th>3</th>\n      <td>1.371</td>\n      <td>6</td>\n    </tr>\n    <tr>\n      <th>4</th>\n      <td>1.418</td>\n      <td>18</td>\n    </tr>\n    <tr>\n      <th>...</th>\n      <td>...</td>\n      <td>...</td>\n    </tr>\n    <tr>\n      <th>251</th>\n      <td>13.168</td>\n      <td>0</td>\n    </tr>\n    <tr>\n      <th>252</th>\n      <td>13.215</td>\n      <td>0</td>\n    </tr>\n    <tr>\n      <th>253</th>\n      <td>13.263</td>\n      <td>0</td>\n    </tr>\n    <tr>\n      <th>254</th>\n      <td>13.310</td>\n      <td>0</td>\n    </tr>\n    <tr>\n      <th>255</th>\n      <td>13.358</td>\n      <td>1</td>\n    </tr>\n  </tbody>\n</table>\n<p>256 rows × 2 columns</p>\n</div>"
     },
     "execution_count": 3,
     "metadata": {},
     "output_type": "execute_result"
    }
   ],
   "source": [
    "original_df = pd.read_csv('example_input_data\\\\example_histogram_data_0.csv')\n",
    "\n",
    "original_df"
   ],
   "metadata": {
    "collapsed": false
   }
  },
  {
   "cell_type": "markdown",
   "source": [
    "# Tests"
   ],
   "metadata": {
    "collapsed": false
   }
  },
  {
   "cell_type": "markdown",
   "source": [
    "## Single file"
   ],
   "metadata": {
    "collapsed": false
   }
  },
  {
   "cell_type": "markdown",
   "source": [
    "### Weighted average"
   ],
   "metadata": {
    "collapsed": false
   }
  },
  {
   "cell_type": "code",
   "execution_count": 4,
   "outputs": [
    {
     "data": {
      "text/plain": "2.5962182658722006"
     },
     "execution_count": 4,
     "metadata": {},
     "output_type": "execute_result"
    }
   ],
   "source": [
    "avg = calculate_weighted_average(original_df)\n",
    "avg"
   ],
   "metadata": {
    "collapsed": false
   }
  },
  {
   "cell_type": "markdown",
   "source": [
    "### Weighted median"
   ],
   "metadata": {
    "collapsed": false
   }
  },
  {
   "cell_type": "code",
   "execution_count": 5,
   "outputs": [
    {
     "data": {
      "text/plain": "2.56"
     },
     "execution_count": 5,
     "metadata": {},
     "output_type": "execute_result"
    }
   ],
   "source": [
    "median = calculate_weighted_median(original_df)\n",
    "median"
   ],
   "metadata": {
    "collapsed": false
   }
  },
  {
   "cell_type": "markdown",
   "source": [
    "### Mode"
   ],
   "metadata": {
    "collapsed": false
   }
  },
  {
   "cell_type": "code",
   "execution_count": 6,
   "outputs": [
    {
     "data": {
      "text/plain": "1.799"
     },
     "execution_count": 6,
     "metadata": {},
     "output_type": "execute_result"
    }
   ],
   "source": [
    "mode = calculate_mode(original_df)\n",
    "mode"
   ],
   "metadata": {
    "collapsed": false
   }
  },
  {
   "cell_type": "markdown",
   "source": [
    "## Multiple files"
   ],
   "metadata": {
    "collapsed": false
   }
  },
  {
   "cell_type": "code",
   "execution_count": 7,
   "outputs": [
    {
     "data": {
      "text/plain": "['example_input_data\\\\example_histogram_data_0.csv',\n 'example_input_data\\\\example_histogram_data_1.csv',\n 'example_input_data\\\\example_histogram_data_2.csv']"
     },
     "execution_count": 7,
     "metadata": {},
     "output_type": "execute_result"
    }
   ],
   "source": [
    "csv_files_list = csv_files_in_dir('example_input_data')\n",
    "csv_files_list"
   ],
   "metadata": {
    "collapsed": false
   }
  },
  {
   "cell_type": "code",
   "execution_count": 8,
   "outputs": [
    {
     "data": {
      "text/plain": "                                       csv_file_name      mean  median   mode\n0  C:\\Users\\louie\\Desktop\\GitHub\\GEVALDataProcess...  2.596218   2.560  1.799\n1  C:\\Users\\louie\\Desktop\\GitHub\\GEVALDataProcess...  1.990185   1.833  1.912\n2  C:\\Users\\louie\\Desktop\\GitHub\\GEVALDataProcess...  1.306029   1.266  0.917",
      "text/html": "<div>\n<style scoped>\n    .dataframe tbody tr th:only-of-type {\n        vertical-align: middle;\n    }\n\n    .dataframe tbody tr th {\n        vertical-align: top;\n    }\n\n    .dataframe thead th {\n        text-align: right;\n    }\n</style>\n<table border=\"1\" class=\"dataframe\">\n  <thead>\n    <tr style=\"text-align: right;\">\n      <th></th>\n      <th>csv_file_name</th>\n      <th>mean</th>\n      <th>median</th>\n      <th>mode</th>\n    </tr>\n  </thead>\n  <tbody>\n    <tr>\n      <th>0</th>\n      <td>C:\\Users\\louie\\Desktop\\GitHub\\GEVALDataProcess...</td>\n      <td>2.596218</td>\n      <td>2.560</td>\n      <td>1.799</td>\n    </tr>\n    <tr>\n      <th>1</th>\n      <td>C:\\Users\\louie\\Desktop\\GitHub\\GEVALDataProcess...</td>\n      <td>1.990185</td>\n      <td>1.833</td>\n      <td>1.912</td>\n    </tr>\n    <tr>\n      <th>2</th>\n      <td>C:\\Users\\louie\\Desktop\\GitHub\\GEVALDataProcess...</td>\n      <td>1.306029</td>\n      <td>1.266</td>\n      <td>0.917</td>\n    </tr>\n  </tbody>\n</table>\n</div>"
     },
     "execution_count": 8,
     "metadata": {},
     "output_type": "execute_result"
    }
   ],
   "source": [
    "results_df = extract_all_parameters_from_csv_files(csv_files_list)\n",
    "results_df"
   ],
   "metadata": {
    "collapsed": false
   }
  },
  {
   "cell_type": "code",
   "execution_count": 10,
   "outputs": [],
   "source": [
    "results_df.to_csv(\n",
    "    'example_output_data\\\\histogram_data_parameters.csv',\n",
    "    index=False\n",
    ")"
   ],
   "metadata": {
    "collapsed": false
   }
  }
 ],
 "metadata": {
  "kernelspec": {
   "display_name": "Python 3",
   "language": "python",
   "name": "python3"
  },
  "language_info": {
   "codemirror_mode": {
    "name": "ipython",
    "version": 2
   },
   "file_extension": ".py",
   "mimetype": "text/x-python",
   "name": "python",
   "nbconvert_exporter": "python",
   "pygments_lexer": "ipython2",
   "version": "2.7.6"
  }
 },
 "nbformat": 4,
 "nbformat_minor": 0
}
